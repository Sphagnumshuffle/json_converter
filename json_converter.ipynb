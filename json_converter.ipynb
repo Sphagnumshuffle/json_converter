{
 "cells": [
  {
   "cell_type": "code",
   "execution_count": 1,
   "metadata": {},
   "outputs": [],
   "source": [
    "import json\n",
    "from datetime import datetime\n",
    "import time\n",
    "\n",
    "def unix_to_hour(time_in_unix):\n",
    "    hour = datetime.utcfromtimestamp(time_in_unix).strftime(\"%I %p\")\n",
    "    return hour"
   ]
  },
  {
   "cell_type": "code",
   "execution_count": 2,
   "metadata": {},
   "outputs": [],
   "source": [
    "with open('restaurant.json', 'r') as f:\n",
    "    json_string = json.load(f)"
   ]
  },
  {
   "cell_type": "code",
   "execution_count": 3,
   "metadata": {},
   "outputs": [],
   "source": [
    "hours_dict = {}\n",
    "closes_list = []\n",
    "\n",
    "for k, v in json_string.items():\n",
    "    #close_flag = False\n",
    "    value = []\n",
    "    \n",
    "    day_name = k\n",
    "    \n",
    "    if json_string[k] == []:\n",
    "        value = []\n",
    "    else:\n",
    "        \n",
    "        # If the first object is closing hours\n",
    "        if json_string[k][0]['type'] == 'close':\n",
    "            opens = unix_to_hour(json_string[k][1]['value'])\n",
    "            value.append(opens)\n",
    "            \n",
    "            close_first_value = unix_to_hour(json_string[k][0]['value'])\n",
    "            closes_list.append(close_first_value)\n",
    "            \n",
    "            \n",
    "        else:\n",
    "            opens = unix_to_hour(json_string[k][0]['value'])\n",
    "            value.append(opens)\n",
    "        \n",
    "\n",
    "        \n",
    "        if json_string[k][-1]['type'] == 'close':\n",
    "            close = unix_to_hour(json_string[k][-1]['value'])\n",
    "            value.append(close)\n",
    "            \n",
    "        else:\n",
    "            close = 'unknown'\n",
    " \n",
    "   \n",
    "    hours_dict.update({day_name:value})\n"
   ]
  },
  {
   "cell_type": "code",
   "execution_count": 4,
   "metadata": {},
   "outputs": [
    {
     "name": "stdout",
     "output_type": "stream",
     "text": [
      "Monday: Closed\n",
      "Tuesday:  10 AM - 06 PM\n",
      "Wednesday: Closed\n",
      "Thursday:  10 AM - 06 PM\n",
      "Friday:  10 AM - 01 AM\n",
      "Saturday:  10 AM - 01 AM\n",
      "Sunday:  12 PM - 09 PM\n"
     ]
    }
   ],
   "source": [
    "for key, value in hours_dict.items():\n",
    "    for item in value:\n",
    "        if len(value) < 2:\n",
    "            value.append(closes_list[0])\n",
    "            closes_list.pop(0)\n",
    "\n",
    "    if value == []:\n",
    "        print(\"{}: Closed\".format(key.capitalize()))\n",
    "    else:\n",
    "        hours = ' - '.join(value)\n",
    "        print(\"{}: \".format(key.capitalize()), hours)\n"
   ]
  }
 ],
 "metadata": {
  "kernelspec": {
   "display_name": "Python 3",
   "language": "python",
   "name": "python3"
  },
  "language_info": {
   "codemirror_mode": {
    "name": "ipython",
    "version": 3
   },
   "file_extension": ".py",
   "mimetype": "text/x-python",
   "name": "python",
   "nbconvert_exporter": "python",
   "pygments_lexer": "ipython3",
   "version": "3.6.8"
  }
 },
 "nbformat": 4,
 "nbformat_minor": 2
}
